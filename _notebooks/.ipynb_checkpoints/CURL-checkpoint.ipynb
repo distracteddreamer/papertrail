{
 "cells": [
  {
   "cell_type": "markdown",
   "metadata": {},
   "source": [
    "## Model\n",
    "- The model is of the form $y \\rightarrow z \\rightarrow x$\n",
    "- $y$ is a categorical r.v. that is used to select parameters for $z$ which has a mixture of Gaussians distribution. \n",
    "- $x$ is binary-valued random variable that follows a Bernoulli distribution parameterised by $z$\n"
   ]
  },
  {
   "cell_type": "code",
   "execution_count": 1,
   "metadata": {},
   "outputs": [],
   "source": [
    "import tensorflow as tf"
   ]
  },
  {
   "cell_type": "code",
   "execution_count": null,
   "metadata": {},
   "outputs": [],
   "source": [
    "class CURL(tf.keras.models.Model):\n",
    "    def __init__(self, enc_y_x, enc_z_xy, decoder):\n",
    "        super(CURL, self).__init__()\n",
    "        self.enc_y_x = enc_y_x\n",
    "        self.enc_z_xy = enc_z_xy\n",
    "        self.decoder = decoder\n",
    "    \n",
    "    def __call__(self, x, noise):\n",
    "        prob_y = self.enc_y_x(x)\n",
    "        y = tf.stop_gradient(tf.argmax(prob_y))\n",
    "        # For each value of y\n",
    "        mu_z, sigma_z = self.enc_z_xy(x) \n",
    "        z = (noise + mu_z) * sigma_z\n",
    "        x_hat = self.decoder(z)"
   ]
  },
  {
   "cell_type": "markdown",
   "metadata": {},
   "source": [
    "Dynamic expansion"
   ]
  },
  {
   "cell_type": "code",
   "execution_count": 3,
   "metadata": {},
   "outputs": [],
   "source": [
    "class Dnew(object):\n",
    "    def __init__(self, threshold, max_size):\n",
    "        self.threshold = threshold\n",
    "        self.max_size = max_size\n",
    "        self.samples = []\n",
    "        \n",
    "    def expand(self, samples):\n",
    "        for sample in samples:\n",
    "            if sample.log_likelihood < threshold:\n",
    "                self.samples.append(sample)\n",
    "                if len(self.samples) == max_size:\n",
    "                    all_samples = self.samples\n",
    "                    self.samples = []\n",
    "                    return all_samples\n",
    "        return"
   ]
  },
  {
   "cell_type": "markdown",
   "metadata": {},
   "source": [
    "Mixture generative replay"
   ]
  },
  {
   "cell_type": "code",
   "execution_count": 24,
   "metadata": {},
   "outputs": [],
   "source": [
    "def get_next_inputs(config, model, loader, itr):\n",
    "    if not config.mgr or ((itr%2) == 0):\n",
    "        return next(loader)\n",
    "    return generate_imgs(config, model, itr)\n",
    "    \n",
    "\n",
    "def train(config, model, dataloader):\n",
    "    loader = iter(dataloader)\n",
    "    qy_x = tf.zeros(config.num_init_components)\n",
    "    if config.dynamic_expansion:\n",
    "        D_new = Dnew(config.threshold, config.max_size)\n",
    "    steps = len(dataloader) * (2 if config.mgr else 1)\n",
    "    for i in range(steps):\n",
    "        inputs = get_next_inputs(config, model, loader, i)\n",
    "        outputs = model(inputs)\n",
    "        \n",
    "        if config.mgr:\n",
    "            qy_x = (qy_x * i + outputs.qy_x) / (i + 1)\n",
    "            \n",
    "        if config.dynamic_expansion:\n",
    "            samples = D_new.expand(outputs.samples)\n",
    "            \n",
    "            if config.dynamic_snapshot:\n",
    "                save_snapshot(config, model, i)\n",
    "        \n",
    "        if config.fixed_snapshot and ((i % config.fixed_snapshot_iter)==0):\n",
    "            save_snapshot(config, model, i)\n",
    "            \n",
    "        \n",
    "            # if samples is not None\n",
    "                # add new component \n",
    "                # if config.mgr\n",
    "                    # extend qy_x\n",
    "                    "
   ]
  }
 ],
 "metadata": {
  "kernelspec": {
   "display_name": "Python 3",
   "language": "python",
   "name": "python3"
  },
  "language_info": {
   "codemirror_mode": {
    "name": "ipython",
    "version": 3
   },
   "file_extension": ".py",
   "mimetype": "text/x-python",
   "name": "python",
   "nbconvert_exporter": "python",
   "pygments_lexer": "ipython3",
   "version": "3.7.4"
  }
 },
 "nbformat": 4,
 "nbformat_minor": 2
}
