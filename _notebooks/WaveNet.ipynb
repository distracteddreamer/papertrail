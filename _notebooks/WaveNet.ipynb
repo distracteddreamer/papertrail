{
 "cells": [
  {
   "cell_type": "markdown",
   "metadata": {},
   "source": [
    "- A key idea here is the use of raw audio.\n",
    "- An important advantage of this is that any type of audio - and indeed by extension, any type of time series - can potentially be modelled."
   ]
  },
  {
   "cell_type": "code",
   "execution_count": 141,
   "metadata": {},
   "outputs": [],
   "source": [
    "import tensorflow as tf"
   ]
  },
  {
   "cell_type": "code",
   "execution_count": 203,
   "metadata": {},
   "outputs": [],
   "source": [
    "class SimpleWaveNet(tf.keras.models.Model):\n",
    "    def __init__(self, model):\n",
    "        super(SimpleWaveNet, self).__init__()\n",
    "        self.model = model\n",
    "        \n",
    "        \n",
    "    def masked_forward(self, x, mask_in, mask_out, cond=None):\n",
    "        batch_size, time_steps, tokens = tf.shape(x)\n",
    "        \n",
    "        # (batch_size, num_steps, time_steps, tokens)\n",
    "        x_masked = x[:, None] * mask_in[None,...,None]\n",
    "        # (batch_size * num_steps, time_steps, tokens)\n",
    "        x_masked = tf.reshape(x_masked, [-1, time_steps, tokens])\n",
    "\n",
    "        # (batch_size * num_steps, time_steps, tokens)\n",
    "        output = self.model(x_masked, cond) \n",
    "        # (batch_size, num_steps, time_steps, tokens)\n",
    "        output = tf.reshape(output, (batch_size, -1, time_steps, tokens))\n",
    "        output = output * mask_out[None,...,None]\n",
    "        return output\n",
    "        \n",
    "    def __call__(self, x, training, cond=None):\n",
    "        # x = (batch_size, time_steps, tokens)\n",
    "        batch_size, time_steps, tokens = tf.shape(x)\n",
    "        output_steps = tf.range(2, time_steps + 1)\n",
    "        \n",
    "        # (time_steps - 1, time_steps)\n",
    "        mask_in = tf.sequence_mask(\n",
    "            lengths=output_steps - 1,\n",
    "            maxlen=time_steps,\n",
    "            dtype=tf.float32\n",
    "        )\n",
    "        # (time_steps - 1, time_steps)\n",
    "        mask_out = tf.sequence_mask(\n",
    "                lengths=output_steps,\n",
    "                maxlen=time_steps,\n",
    "                dtype=tf.float32\n",
    "        )\n",
    "        \n",
    "        if training: \n",
    "            # (batch_size, time_steps - 1, time_steps, tokens)\n",
    "            outputs = self.masked_forward(x, mask_in, mask_out, cond)\n",
    "            \n",
    "            # (batch_size, time_steps, time_steps, tokens)\n",
    "            return tf.concat([x[:, None] * mask_in[None,0,:,None], outputs], axis=1)\n",
    "\n",
    "        else:\n",
    "            outputs = [x]\n",
    "            # (time_steps,), (time_steps,)\n",
    "            \n",
    "            for mi, mo in zip(mask_in, mask_out):\n",
    "                # (batch_size, 1, time_steps, tokens)\n",
    "                output = self.masked_forward(outputs[-1], mi, mo, cond)\n",
    "                outputs.append(tf.squeeze(output, 1))\n",
    "                \n",
    "            # (batch_size, time_steps, time_steps, tokens)\n",
    "            return tf.stack(outputs, axis=1)    "
   ]
  },
  {
   "cell_type": "code",
   "execution_count": 204,
   "metadata": {},
   "outputs": [],
   "source": [
    "model = tf.keras.layers.Conv1D(kernel_size=3, filters=1, padding='same')\n",
    "wavenet = SimpleWaveNet(model)\n"
   ]
  },
  {
   "cell_type": "code",
   "execution_count": 208,
   "metadata": {},
   "outputs": [
    {
     "data": {
      "text/plain": [
       "<tf.Tensor: id=8392, shape=(6,), dtype=float32, numpy=\n",
       "array([0.42109227, 0.49568915, 0.08372366, 0.81927514, 0.15176475,\n",
       "       0.8476447 ], dtype=float32)>"
      ]
     },
     "execution_count": 208,
     "metadata": {},
     "output_type": "execute_result"
    }
   ],
   "source": [
    "x = tf.random.uniform([6])\n",
    "x"
   ]
  },
  {
   "cell_type": "code",
   "execution_count": 221,
   "metadata": {},
   "outputs": [
    {
     "data": {
      "text/plain": [
       "array([[ True, False, False, False, False, False],\n",
       "       [ True,  True, False, False, False, False],\n",
       "       [ True,  True,  True, False, False, False],\n",
       "       [ True,  True,  True,  True, False, False],\n",
       "       [ True,  True,  True,  True,  True, False],\n",
       "       [ True,  True,  True,  True,  True,  True]])"
      ]
     },
     "execution_count": 221,
     "metadata": {},
     "output_type": "execute_result"
    }
   ],
   "source": [
    "wavenet(x[None, ..., None], True)[0,...,0].numpy()!= 0"
   ]
  },
  {
   "cell_type": "code",
   "execution_count": 220,
   "metadata": {
    "scrolled": true
   },
   "outputs": [
    {
     "data": {
      "text/plain": [
       "array([[ True, False, False, False, False, False],\n",
       "       [ True,  True, False, False, False, False],\n",
       "       [ True,  True,  True, False, False, False],\n",
       "       [ True,  True,  True,  True, False, False],\n",
       "       [ True,  True,  True,  True,  True, False],\n",
       "       [ True,  True,  True,  True,  True,  True]])"
      ]
     },
     "execution_count": 220,
     "metadata": {},
     "output_type": "execute_result"
    }
   ],
   "source": [
    "wavenet((x * tf.sequence_mask(1, 6, dtype=tf.float32))[None, ..., None], False)[0,...,0].numpy() != 0"
   ]
  },
  {
   "cell_type": "markdown",
   "metadata": {},
   "source": [
    "This was found to work better than ReLU I think."
   ]
  },
  {
   "cell_type": "code",
   "execution_count": null,
   "metadata": {},
   "outputs": [],
   "source": [
    "class GatedActivationUnit(tf.keras.models.Model):\n",
    "    def __init__(self, **kwargs):\n",
    "        super(GatedActivationUnit, self).__init__()\n",
    "        self.conv_filter = tf.keras.layers.Conv1D(**kwargs['conv_filter'], activation='tanh')\n",
    "        self.conv_gate = tf.keras.layers.Conv1D(**kwargs['conv_gate'], activation='sigmoid')\n",
    "        \n",
    "    def __call__(self, x):\n",
    "        return self.conv_filter(x) * self.conv_gate(x)\n",
    "        \n",
    "    "
   ]
  }
 ],
 "metadata": {
  "kernelspec": {
   "display_name": "Python 3",
   "language": "python",
   "name": "python3"
  },
  "language_info": {
   "codemirror_mode": {
    "name": "ipython",
    "version": 3
   },
   "file_extension": ".py",
   "mimetype": "text/x-python",
   "name": "python",
   "nbconvert_exporter": "python",
   "pygments_lexer": "ipython3",
   "version": "3.7.4"
  }
 },
 "nbformat": 4,
 "nbformat_minor": 2
}
